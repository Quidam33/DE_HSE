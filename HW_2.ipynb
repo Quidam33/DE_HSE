{
 "cells": [
  {
   "cell_type": "markdown",
   "id": "9c98fb4b",
   "metadata": {},
   "source": [
    "## Домашнее задание 2"
   ]
  },
  {
   "cell_type": "markdown",
   "id": "fdbcbf8c",
   "metadata": {},
   "source": [
    "### Задание 1. "
   ]
  },
  {
   "cell_type": "code",
   "execution_count": 3,
   "id": "35e82238",
   "metadata": {},
   "outputs": [],
   "source": [
    "def letters(word: str) -> str:\n",
    "    middle = len(word) // 2\n",
    "    if len(word) % 2 == 0:\n",
    "        return word[middle - 1:middle + 1]\n",
    "    else:\n",
    "        return word[middle]"
   ]
  },
  {
   "cell_type": "code",
   "execution_count": 4,
   "id": "a5ed6800",
   "metadata": {},
   "outputs": [
    {
     "data": {
      "text/plain": [
       "'es'"
      ]
     },
     "execution_count": 4,
     "metadata": {},
     "output_type": "execute_result"
    }
   ],
   "source": [
    "letters('test')"
   ]
  },
  {
   "cell_type": "code",
   "execution_count": 5,
   "id": "60108adf",
   "metadata": {},
   "outputs": [
    {
     "data": {
      "text/plain": [
       "'t'"
      ]
     },
     "execution_count": 5,
     "metadata": {},
     "output_type": "execute_result"
    }
   ],
   "source": [
    "letters('testing')"
   ]
  },
  {
   "cell_type": "code",
   "execution_count": 6,
   "id": "a3c1b15f",
   "metadata": {},
   "outputs": [],
   "source": [
    "from typing import List"
   ]
  },
  {
   "cell_type": "code",
   "execution_count": 27,
   "id": "70276908",
   "metadata": {},
   "outputs": [],
   "source": [
    "def speed_dating(girls: List[str], boys: List[str]) -> List[List]:\n",
    "    girls.sort()\n",
    "    boys.sort()\n",
    "    pairs = []\n",
    "    if len(girls) != len(boys):\n",
    "        print('Внимание, кто-то может остаться без пары!')\n",
    "    else:\n",
    "        print('Идеальные пары: ')\n",
    "        for i in range(len(boys)):\n",
    "            print(f'{boys[i]} и {girls[i]}')"
   ]
  },
  {
   "cell_type": "code",
   "execution_count": 28,
   "id": "2b190933",
   "metadata": {},
   "outputs": [
    {
     "name": "stdout",
     "output_type": "stream",
     "text": [
      "Идеальные пары: \n",
      "Alex и Emma\n",
      "Arthur и Kate\n",
      "John и Kira\n",
      "Peter и Liza\n",
      "Richard и Trisha\n"
     ]
    }
   ],
   "source": [
    "boys = ['Peter', 'Alex', 'John', 'Arthur', 'Richard']\n",
    "girls = ['Kate', 'Liza', 'Kira', 'Emma', 'Trisha']\n",
    "\n",
    "speed_dating(girls, boys)"
   ]
  },
  {
   "cell_type": "code",
   "execution_count": 29,
   "id": "c3b36c5e",
   "metadata": {},
   "outputs": [
    {
     "name": "stdout",
     "output_type": "stream",
     "text": [
      "Внимание, кто-то может остаться без пары!\n"
     ]
    }
   ],
   "source": [
    "boys = ['Peter', 'Alex', 'John', 'Arthur', 'Richard', 'Michael']\n",
    "girls = ['Kate', 'Liza', 'Kira', 'Emma', 'Trisha']\n",
    "\n",
    "speed_dating(girls, boys)"
   ]
  },
  {
   "cell_type": "code",
   "execution_count": 30,
   "id": "9350b955",
   "metadata": {},
   "outputs": [
    {
     "name": "stderr",
     "output_type": "stream",
     "text": [
      "warning: LF will be replaced by CRLF in HW_1.ipynb.\n",
      "The file will have its original line endings in your working directory\n",
      "warning: LF will be replaced by CRLF in .ipynb_checkpoints/HW_2-checkpoint.ipynb.\n",
      "The file will have its original line endings in your working directory\n",
      "warning: LF will be replaced by CRLF in HW_2.ipynb.\n",
      "The file will have its original line endings in your working directory\n"
     ]
    }
   ],
   "source": [
    "!git add ."
   ]
  },
  {
   "cell_type": "code",
   "execution_count": 31,
   "id": "48720fb1",
   "metadata": {},
   "outputs": [
    {
     "name": "stdout",
     "output_type": "stream",
     "text": [
      "[main 15f921f] 'hw_2'\n",
      " 3 files changed, 224 insertions(+), 8 deletions(-)\n",
      " create mode 100644 .ipynb_checkpoints/HW_2-checkpoint.ipynb\n",
      " create mode 100644 HW_2.ipynb\n"
     ]
    }
   ],
   "source": [
    "!git commit -m 'hw_2'"
   ]
  },
  {
   "cell_type": "code",
   "execution_count": 32,
   "id": "3aa4cc75",
   "metadata": {},
   "outputs": [
    {
     "name": "stderr",
     "output_type": "stream",
     "text": [
      "To https://github.com/Quidam33/DE_HSE.git\n",
      "   a289804..15f921f  main -> main\n"
     ]
    }
   ],
   "source": [
    "!git push origin main"
   ]
  },
  {
   "cell_type": "code",
   "execution_count": null,
   "id": "751226fc",
   "metadata": {},
   "outputs": [],
   "source": []
  }
 ],
 "metadata": {
  "kernelspec": {
   "display_name": "Python 3 (ipykernel)",
   "language": "python",
   "name": "python3"
  },
  "language_info": {
   "codemirror_mode": {
    "name": "ipython",
    "version": 3
   },
   "file_extension": ".py",
   "mimetype": "text/x-python",
   "name": "python",
   "nbconvert_exporter": "python",
   "pygments_lexer": "ipython3",
   "version": "3.11.5"
  }
 },
 "nbformat": 4,
 "nbformat_minor": 5
}
