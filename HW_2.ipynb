{
 "cells": [
  {
   "cell_type": "markdown",
   "id": "f11048b1",
   "metadata": {},
   "source": [
    "## Домашнее задание 2"
   ]
  },
  {
   "cell_type": "markdown",
   "id": "7a775cbf",
   "metadata": {},
   "source": [
    "### Задание 1. "
   ]
  },
  {
   "cell_type": "code",
   "execution_count": 3,
   "id": "7cbddf2a",
   "metadata": {},
   "outputs": [],
   "source": [
    "def letters(word: str) -> str:\n",
    "    middle = len(word) // 2\n",
    "    if len(word) % 2 == 0:\n",
    "        return word[middle - 1:middle + 1]\n",
    "    else:\n",
    "        return word[middle]"
   ]
  },
  {
   "cell_type": "code",
   "execution_count": 4,
   "id": "d94d872f",
   "metadata": {},
   "outputs": [
    {
     "data": {
      "text/plain": [
       "'es'"
      ]
     },
     "execution_count": 4,
     "metadata": {},
     "output_type": "execute_result"
    }
   ],
   "source": [
    "letters('test')"
   ]
  },
  {
   "cell_type": "code",
   "execution_count": 5,
   "id": "5df41c7b",
   "metadata": {},
   "outputs": [
    {
     "data": {
      "text/plain": [
       "'t'"
      ]
     },
     "execution_count": 5,
     "metadata": {},
     "output_type": "execute_result"
    }
   ],
   "source": [
    "letters('testing')"
   ]
  },
  {
   "cell_type": "code",
   "execution_count": 6,
   "id": "7bb220ce",
   "metadata": {},
   "outputs": [],
   "source": [
    "from typing import List"
   ]
  },
  {
   "cell_type": "code",
   "execution_count": 27,
   "id": "46496e48",
   "metadata": {},
   "outputs": [],
   "source": [
    "def speed_dating(girls: List[str], boys: List[str]) -> List[List]:\n",
    "    girls.sort()\n",
    "    boys.sort()\n",
    "    pairs = []\n",
    "    if len(girls) != len(boys):\n",
    "        print('Внимание, кто-то может остаться без пары!')\n",
    "    else:\n",
    "        print('Идеальные пары: ')\n",
    "        for i in range(len(boys)):\n",
    "            print(f'{boys[i]} и {girls[i]}')"
   ]
  },
  {
   "cell_type": "code",
   "execution_count": 28,
   "id": "ba847de6",
   "metadata": {},
   "outputs": [
    {
     "name": "stdout",
     "output_type": "stream",
     "text": [
      "Идеальные пары: \n",
      "Alex и Emma\n",
      "Arthur и Kate\n",
      "John и Kira\n",
      "Peter и Liza\n",
      "Richard и Trisha\n"
     ]
    }
   ],
   "source": [
    "boys = ['Peter', 'Alex', 'John', 'Arthur', 'Richard']\n",
    "girls = ['Kate', 'Liza', 'Kira', 'Emma', 'Trisha']\n",
    "\n",
    "speed_dating(girls, boys)"
   ]
  },
  {
   "cell_type": "code",
   "execution_count": 29,
   "id": "e602c25a",
   "metadata": {},
   "outputs": [
    {
     "name": "stdout",
     "output_type": "stream",
     "text": [
      "Внимание, кто-то может остаться без пары!\n"
     ]
    }
   ],
   "source": [
    "boys = ['Peter', 'Alex', 'John', 'Arthur', 'Richard', 'Michael']\n",
    "girls = ['Kate', 'Liza', 'Kira', 'Emma', 'Trisha']\n",
    "\n",
    "speed_dating(girls, boys)"
   ]
  },
  {
   "cell_type": "code",
   "execution_count": null,
   "id": "5a5b6ff7",
   "metadata": {},
   "outputs": [],
   "source": []
  }
 ],
 "metadata": {
  "kernelspec": {
   "display_name": "Python 3 (ipykernel)",
   "language": "python",
   "name": "python3"
  },
  "language_info": {
   "codemirror_mode": {
    "name": "ipython",
    "version": 3
   },
   "file_extension": ".py",
   "mimetype": "text/x-python",
   "name": "python",
   "nbconvert_exporter": "python",
   "pygments_lexer": "ipython3",
   "version": "3.11.5"
  }
 },
 "nbformat": 4,
 "nbformat_minor": 5
}
