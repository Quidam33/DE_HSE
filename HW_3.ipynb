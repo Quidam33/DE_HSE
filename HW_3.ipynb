{
 "cells": [
  {
   "cell_type": "markdown",
   "id": "aa1d076e",
   "metadata": {},
   "source": [
    "## Домашнее задание 1"
   ]
  },
  {
   "cell_type": "markdown",
   "id": "f4c5fcee",
   "metadata": {},
   "source": [
    "### Задание 1. "
   ]
  },
  {
   "cell_type": "code",
   "execution_count": 20,
   "id": "b9285f8f",
   "metadata": {},
   "outputs": [],
   "source": [
    "from typing import Dict, List"
   ]
  },
  {
   "cell_type": "code",
   "execution_count": 21,
   "id": "11448802",
   "metadata": {},
   "outputs": [],
   "source": [
    "def unique_ids(ids: Dict[str, List[int]]) -> set:\n",
    "    return set([p for points in ids.values() for p in points])"
   ]
  },
  {
   "cell_type": "code",
   "execution_count": 22,
   "id": "43560df2",
   "metadata": {},
   "outputs": [
    {
     "data": {
      "text/plain": [
       "{15, 35, 54, 98, 119, 213}"
      ]
     },
     "execution_count": 22,
     "metadata": {},
     "output_type": "execute_result"
    }
   ],
   "source": [
    "ids = {'user1': [213, 213, 213, 15, 213],\n",
    "'user2': [54, 54, 119, 119, 119],\n",
    "'user3': [213, 98, 98, 35]}\n",
    "\n",
    "unique_ids(ids)"
   ]
  },
  {
   "cell_type": "markdown",
   "id": "b40fe425",
   "metadata": {},
   "source": [
    "### Задание 2."
   ]
  },
  {
   "cell_type": "code",
   "execution_count": 27,
   "id": "8b423a9e",
   "metadata": {},
   "outputs": [],
   "source": [
    "from collections import Counter"
   ]
  },
  {
   "cell_type": "code",
   "execution_count": 47,
   "id": "42af91ec",
   "metadata": {},
   "outputs": [],
   "source": [
    "def search_queries(queries: List[str]):\n",
    "    total = len(queries)\n",
    "    len_dict = dict(Counter([word.count(' ') + 1 for word in queries]))\n",
    "    \n",
    "    for key, value in len_dict.items():\n",
    "        print(f'Поисковых запросов, содержащих {key} слов(а): {(value/total * 100):.2f}%')"
   ]
  },
  {
   "cell_type": "code",
   "execution_count": 48,
   "id": "f36ea1dd",
   "metadata": {},
   "outputs": [
    {
     "name": "stdout",
     "output_type": "stream",
     "text": [
      "Поисковых запросов, содержащих 3 слов(а): 57.14%\n",
      "Поисковых запросов, содержащих 2 слов(а): 42.86%\n"
     ]
    }
   ],
   "source": [
    "queries = [\n",
    "'смотреть сериалы онлайн',\n",
    "'новости спорта',\n",
    "'афиша кино',\n",
    "'курс доллара',\n",
    "'сериалы этим летом',\n",
    "'курс по питону',\n",
    "'сериалы про спорт',\n",
    "]\n",
    "\n",
    "search_queries(queries)"
   ]
  },
  {
   "cell_type": "code",
   "execution_count": null,
   "id": "2cb96319",
   "metadata": {},
   "outputs": [],
   "source": []
  }
 ],
 "metadata": {
  "kernelspec": {
   "display_name": "Python 3 (ipykernel)",
   "language": "python",
   "name": "python3"
  },
  "language_info": {
   "codemirror_mode": {
    "name": "ipython",
    "version": 3
   },
   "file_extension": ".py",
   "mimetype": "text/x-python",
   "name": "python",
   "nbconvert_exporter": "python",
   "pygments_lexer": "ipython3",
   "version": "3.11.5"
  }
 },
 "nbformat": 4,
 "nbformat_minor": 5
}
