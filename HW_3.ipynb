{
 "cells": [
  {
   "cell_type": "markdown",
   "id": "8f252266",
   "metadata": {},
   "source": [
    "## Домашнее задание 1"
   ]
  },
  {
   "cell_type": "markdown",
   "id": "b9ea32bd",
   "metadata": {},
   "source": [
    "### Задание 1. "
   ]
  },
  {
   "cell_type": "code",
   "execution_count": 20,
   "id": "6b4a4201",
   "metadata": {},
   "outputs": [],
   "source": [
    "from typing import Dict, List"
   ]
  },
  {
   "cell_type": "code",
   "execution_count": 21,
   "id": "6b8d5457",
   "metadata": {},
   "outputs": [],
   "source": [
    "def unique_ids(ids: Dict[str, List[int]]) -> set:\n",
    "    return set([p for points in ids.values() for p in points])"
   ]
  },
  {
   "cell_type": "code",
   "execution_count": 22,
   "id": "6ec89167",
   "metadata": {},
   "outputs": [
    {
     "data": {
      "text/plain": [
       "{15, 35, 54, 98, 119, 213}"
      ]
     },
     "execution_count": 22,
     "metadata": {},
     "output_type": "execute_result"
    }
   ],
   "source": [
    "ids = {'user1': [213, 213, 213, 15, 213],\n",
    "'user2': [54, 54, 119, 119, 119],\n",
    "'user3': [213, 98, 98, 35]}\n",
    "\n",
    "unique_ids(ids)"
   ]
  },
  {
   "cell_type": "markdown",
   "id": "338c7660",
   "metadata": {},
   "source": [
    "### Задание 2."
   ]
  },
  {
   "cell_type": "code",
   "execution_count": 27,
   "id": "aa2ad280",
   "metadata": {},
   "outputs": [],
   "source": [
    "from collections import Counter"
   ]
  },
  {
   "cell_type": "code",
   "execution_count": 49,
   "id": "eda1b89b",
   "metadata": {},
   "outputs": [],
   "source": [
    "def search_queries(queries: List[str]):\n",
    "    total = len(queries)\n",
    "    len_dict = dict(Counter([word.count(' ') + 1 for word in queries]))\n",
    "    sorted_len_dict = {key: len_dict[key] for key in sorted(len_dict.keys())}\n",
    "    for key, value in sorted_len_dict.items():\n",
    "        print(f'Поисковых запросов, содержащих {key} слов(а): {(value/total * 100):.2f}%')"
   ]
  },
  {
   "cell_type": "code",
   "execution_count": 50,
   "id": "3b660bf3",
   "metadata": {},
   "outputs": [
    {
     "name": "stdout",
     "output_type": "stream",
     "text": [
      "Поисковых запросов, содержащих 2 слов(а): 42.86%\n",
      "Поисковых запросов, содержащих 3 слов(а): 57.14%\n"
     ]
    }
   ],
   "source": [
    "queries = [\n",
    "'смотреть сериалы онлайн',\n",
    "'новости спорта',\n",
    "'афиша кино',\n",
    "'курс доллара',\n",
    "'сериалы этим летом',\n",
    "'курс по питону',\n",
    "'сериалы про спорт',\n",
    "]\n",
    "\n",
    "search_queries(queries)"
   ]
  },
  {
   "cell_type": "code",
   "execution_count": 51,
   "id": "a0a891dc",
   "metadata": {},
   "outputs": [
    {
     "name": "stderr",
     "output_type": "stream",
     "text": [
      "warning: LF will be replaced by CRLF in HW_2.ipynb.\n",
      "The file will have its original line endings in your working directory\n",
      "warning: LF will be replaced by CRLF in .ipynb_checkpoints/HW_3-checkpoint.ipynb.\n",
      "The file will have its original line endings in your working directory\n",
      "warning: LF will be replaced by CRLF in HW_3.ipynb.\n",
      "The file will have its original line endings in your working directory\n"
     ]
    }
   ],
   "source": [
    "!git add ."
   ]
  },
  {
   "cell_type": "code",
   "execution_count": 52,
   "id": "93d121d2",
   "metadata": {},
   "outputs": [
    {
     "name": "stdout",
     "output_type": "stream",
     "text": [
      "[main ded6b6b] 'hw_3'\n",
      " 3 files changed, 236 insertions(+), 10 deletions(-)\n",
      " create mode 100644 .ipynb_checkpoints/HW_3-checkpoint.ipynb\n",
      " create mode 100644 HW_3.ipynb\n"
     ]
    }
   ],
   "source": [
    "!git commit -m 'hw_3'"
   ]
  },
  {
   "cell_type": "code",
   "execution_count": 53,
   "id": "c5fe5044",
   "metadata": {},
   "outputs": [
    {
     "name": "stderr",
     "output_type": "stream",
     "text": [
      "To https://github.com/Quidam33/DE_HSE.git\n",
      "   15f921f..ded6b6b  main -> main\n"
     ]
    }
   ],
   "source": [
    "!git push origin main"
   ]
  },
  {
   "cell_type": "code",
   "execution_count": null,
   "id": "2c3972ac",
   "metadata": {},
   "outputs": [],
   "source": []
  }
 ],
 "metadata": {
  "kernelspec": {
   "display_name": "Python 3 (ipykernel)",
   "language": "python",
   "name": "python3"
  },
  "language_info": {
   "codemirror_mode": {
    "name": "ipython",
    "version": 3
   },
   "file_extension": ".py",
   "mimetype": "text/x-python",
   "name": "python",
   "nbconvert_exporter": "python",
   "pygments_lexer": "ipython3",
   "version": "3.11.5"
  }
 },
 "nbformat": 4,
 "nbformat_minor": 5
}
