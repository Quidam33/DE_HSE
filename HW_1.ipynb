{
 "cells": [
  {
   "cell_type": "markdown",
   "id": "47c09a21",
   "metadata": {},
   "source": [
    "## Домашнее задание 1"
   ]
  },
  {
   "cell_type": "markdown",
   "id": "a290f38a",
   "metadata": {},
   "source": [
    "### Задание 1. "
   ]
  },
  {
   "cell_type": "code",
   "execution_count": 1,
   "id": "0d71f23b",
   "metadata": {},
   "outputs": [],
   "source": [
    "def is_leap_year(year: int) -> str:\n",
    "    if year % 4 == 0:\n",
    "        return 'Високосный год'\n",
    "    else:\n",
    "        return 'Обычный год'"
   ]
  },
  {
   "cell_type": "code",
   "execution_count": 2,
   "id": "bbda8412",
   "metadata": {},
   "outputs": [
    {
     "data": {
      "text/plain": [
       "'Високосный год'"
      ]
     },
     "execution_count": 2,
     "metadata": {},
     "output_type": "execute_result"
    }
   ],
   "source": [
    "is_leap_year(2020)"
   ]
  },
  {
   "cell_type": "code",
   "execution_count": 3,
   "id": "ce76f1e4",
   "metadata": {},
   "outputs": [
    {
     "data": {
      "text/plain": [
       "'Обычный год'"
      ]
     },
     "execution_count": 3,
     "metadata": {},
     "output_type": "execute_result"
    }
   ],
   "source": [
    "is_leap_year(2019)"
   ]
  },
  {
   "cell_type": "markdown",
   "id": "6737de62",
   "metadata": {},
   "source": [
    "### Задание 2."
   ]
  },
  {
   "cell_type": "code",
   "execution_count": 6,
   "id": "abf90a71",
   "metadata": {},
   "outputs": [],
   "source": [
    "def is_lucky_ticket(ticket_no: int) -> str:\n",
    "    ticket_no_l = list(map(int, str(ticket_no)))\n",
    "    if len(ticket_no_l) != 6:\n",
    "        return 'Неправильный номер билета'\n",
    "    elif sum(ticket_no_l[3:]) == sum(ticket_no_l[:3]):\n",
    "        return 'Счастливый билет'\n",
    "    else:\n",
    "        return 'Несчастливый билет'"
   ]
  },
  {
   "cell_type": "code",
   "execution_count": 7,
   "id": "11c9cb12",
   "metadata": {},
   "outputs": [
    {
     "data": {
      "text/plain": [
       "'Несчастливый билет'"
      ]
     },
     "execution_count": 7,
     "metadata": {},
     "output_type": "execute_result"
    }
   ],
   "source": [
    "is_lucky_ticket(123456)"
   ]
  },
  {
   "cell_type": "code",
   "execution_count": 8,
   "id": "909b9052",
   "metadata": {},
   "outputs": [
    {
     "data": {
      "text/plain": [
       "'Счастливый билет'"
      ]
     },
     "execution_count": 8,
     "metadata": {},
     "output_type": "execute_result"
    }
   ],
   "source": [
    "is_lucky_ticket(123321)"
   ]
  },
  {
   "cell_type": "code",
   "execution_count": 9,
   "id": "f48f273c",
   "metadata": {},
   "outputs": [
    {
     "name": "stderr",
     "output_type": "stream",
     "text": [
      "warning: LF will be replaced by CRLF in .ipynb_checkpoints/HW_1-checkpoint.ipynb.\n",
      "The file will have its original line endings in your working directory\n",
      "warning: LF will be replaced by CRLF in HW_1.ipynb.\n",
      "The file will have its original line endings in your working directory\n"
     ]
    }
   ],
   "source": [
    "!git add ."
   ]
  },
  {
   "cell_type": "code",
   "execution_count": null,
   "id": "6f9e3014",
   "metadata": {},
   "outputs": [],
   "source": []
  }
 ],
 "metadata": {
  "kernelspec": {
   "display_name": "Python 3 (ipykernel)",
   "language": "python",
   "name": "python3"
  },
  "language_info": {
   "codemirror_mode": {
    "name": "ipython",
    "version": 3
   },
   "file_extension": ".py",
   "mimetype": "text/x-python",
   "name": "python",
   "nbconvert_exporter": "python",
   "pygments_lexer": "ipython3",
   "version": "3.11.5"
  }
 },
 "nbformat": 4,
 "nbformat_minor": 5
}
